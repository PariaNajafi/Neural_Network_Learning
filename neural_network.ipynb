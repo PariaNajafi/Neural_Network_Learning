{
  "nbformat": 4,
  "nbformat_minor": 0,
  "metadata": {
    "colab": {
      "provenance": [],
      "authorship_tag": "ABX9TyMz/9IaznP2nrPAz4ZufVdg",
      "include_colab_link": true
    },
    "kernelspec": {
      "name": "python3",
      "display_name": "Python 3"
    },
    "language_info": {
      "name": "python"
    }
  },
  "cells": [
    {
      "cell_type": "markdown",
      "metadata": {
        "id": "view-in-github",
        "colab_type": "text"
      },
      "source": [
        "<a href=\"https://colab.research.google.com/github/PariaNajafi/Neural_Network_Learning/blob/main/neural_network.ipynb\" target=\"_parent\"><img src=\"https://colab.research.google.com/assets/colab-badge.svg\" alt=\"Open In Colab\"/></a>"
      ]
    },
    {
      "cell_type": "markdown",
      "source": [
        "# Single Neuron"
      ],
      "metadata": {
        "id": "0Bthy_fn87Cr"
      }
    },
    {
      "cell_type": "code",
      "execution_count": null,
      "metadata": {
        "id": "NC1vJmGzuN3Z"
      },
      "outputs": [],
      "source": [
        "x1=1\n",
        "x2=2\n",
        "x3=-1"
      ]
    },
    {
      "cell_type": "code",
      "source": [
        "print(x1,x2,x3)"
      ],
      "metadata": {
        "colab": {
          "base_uri": "https://localhost:8080/"
        },
        "id": "1f5UO92kvaR7",
        "outputId": "5ff4eb45-3e58-4eb8-dd56-8392580e5690"
      },
      "execution_count": null,
      "outputs": [
        {
          "output_type": "stream",
          "name": "stdout",
          "text": [
            "1 2 -1\n"
          ]
        }
      ]
    },
    {
      "cell_type": "code",
      "source": [
        "def f(x1,x2,x3):\n",
        "  y=x1+x2+x3\n",
        "  return y"
      ],
      "metadata": {
        "id": "KuSEESnmvgUV"
      },
      "execution_count": null,
      "outputs": []
    },
    {
      "cell_type": "code",
      "source": [
        "f(x1, x2, x3)"
      ],
      "metadata": {
        "colab": {
          "base_uri": "https://localhost:8080/"
        },
        "id": "8tpjG-okv4x6",
        "outputId": "3f7947b1-a69e-46ba-8422-cdf1d63150b2"
      },
      "execution_count": null,
      "outputs": [
        {
          "output_type": "execute_result",
          "data": {
            "text/plain": [
              "2"
            ]
          },
          "metadata": {},
          "execution_count": 4
        }
      ]
    },
    {
      "cell_type": "code",
      "source": [
        "f(4, 2, 7)"
      ],
      "metadata": {
        "colab": {
          "base_uri": "https://localhost:8080/"
        },
        "id": "zWO1MywTv9dS",
        "outputId": "b35eb8bf-614d-4b1c-8c51-6960f31bb37c"
      },
      "execution_count": null,
      "outputs": [
        {
          "output_type": "execute_result",
          "data": {
            "text/plain": [
              "13"
            ]
          },
          "metadata": {},
          "execution_count": 5
        }
      ]
    },
    {
      "cell_type": "code",
      "source": [
        "def neuron(x1,x2,x3):\n",
        "  w1=0.1\n",
        "  w2=-0.2\n",
        "  w3=0.7\n",
        "  y=w1* x1 + w2 * x2 + w3 * x3\n",
        "  return y"
      ],
      "metadata": {
        "id": "3qezenMPwHst"
      },
      "execution_count": null,
      "outputs": []
    },
    {
      "cell_type": "code",
      "source": [
        "neuron(1, 3, 4)"
      ],
      "metadata": {
        "colab": {
          "base_uri": "https://localhost:8080/"
        },
        "id": "IgIa0UxqxS78",
        "outputId": "3a5b1c40-26ad-4c62-8999-9d2dad737446"
      },
      "execution_count": null,
      "outputs": [
        {
          "output_type": "execute_result",
          "data": {
            "text/plain": [
              "2.3"
            ]
          },
          "metadata": {},
          "execution_count": 8
        }
      ]
    },
    {
      "cell_type": "code",
      "source": [
        "#turned off neuron\n",
        "def neuron(x1,x2,x3):\n",
        "  w1=0\n",
        "  w2=0\n",
        "  w3=0\n",
        "  y=w1* x1 + w2 * x2 + w3 * x3\n",
        "  return y"
      ],
      "metadata": {
        "id": "kdOIbf524vRQ"
      },
      "execution_count": null,
      "outputs": []
    },
    {
      "cell_type": "code",
      "source": [
        "neuron(1, 3, 4)"
      ],
      "metadata": {
        "colab": {
          "base_uri": "https://localhost:8080/"
        },
        "id": "g8U71i405CnP",
        "outputId": "7d5f254a-ee9d-44f1-b54e-8252eba6442e"
      },
      "execution_count": null,
      "outputs": [
        {
          "output_type": "execute_result",
          "data": {
            "text/plain": [
              "0"
            ]
          },
          "metadata": {},
          "execution_count": 10
        }
      ]
    },
    {
      "cell_type": "code",
      "source": [
        "#reverse neuron\n",
        "def neuron(x1,x2,x3):\n",
        "  w1=-1\n",
        "  w2=-1\n",
        "  w3=-1\n",
        "  y=w1* x1 + w2 * x2 + w3 * x3\n",
        "  return y\n",
        "\n",
        "neuron(1, 3, 4)"
      ],
      "metadata": {
        "colab": {
          "base_uri": "https://localhost:8080/"
        },
        "id": "jcJVCB4P5GiW",
        "outputId": "c3aaeb8a-0d94-4055-e81c-281622c977d6"
      },
      "execution_count": null,
      "outputs": [
        {
          "output_type": "execute_result",
          "data": {
            "text/plain": [
              "-8"
            ]
          },
          "metadata": {},
          "execution_count": 11
        }
      ]
    },
    {
      "cell_type": "markdown",
      "source": [
        "we can control the effect of each inputs,= with weights of inputs"
      ],
      "metadata": {
        "id": "hv7s1-Cf-BF9"
      }
    },
    {
      "cell_type": "code",
      "source": [
        "#pure chaos\n",
        "import numpy as np\n",
        "\n",
        "def neuron(x1,x2,x3):\n",
        "  w1=np.random.uniform(-1 ,1)\n",
        "  w2=np.random.uniform(-1 ,1)\n",
        "  w3=np.random.uniform(-1 ,1)\n",
        "  y=w1* x1 + w2 * x2 + w3 * x3\n",
        "  return y\n",
        "\n",
        "neuron(1, 3, 4)"
      ],
      "metadata": {
        "colab": {
          "base_uri": "https://localhost:8080/"
        },
        "id": "gr03WmXU7r_h",
        "outputId": "9b420c12-d5ae-4e8d-f8e1-0d8d049f4efb"
      },
      "execution_count": null,
      "outputs": [
        {
          "output_type": "execute_result",
          "data": {
            "text/plain": [
              "-5.647188223450723"
            ]
          },
          "metadata": {},
          "execution_count": 6
        }
      ]
    },
    {
      "cell_type": "markdown",
      "source": [
        "# Activation Function"
      ],
      "metadata": {
        "id": "f8CTpfWJ8xu-"
      }
    },
    {
      "cell_type": "code",
      "source": [
        "def neuron(x):\n",
        "  if x>0:\n",
        "    return 1\n",
        "  if x <=0:\n",
        "    return 0\n"
      ],
      "metadata": {
        "id": "SRTdGZln-O8T"
      },
      "execution_count": null,
      "outputs": []
    },
    {
      "cell_type": "code",
      "source": [
        "neuron(1)"
      ],
      "metadata": {
        "colab": {
          "base_uri": "https://localhost:8080/"
        },
        "id": "JVLeawkSGlCo",
        "outputId": "953c9f9d-a48b-4493-a54f-57574f99a80d"
      },
      "execution_count": null,
      "outputs": [
        {
          "output_type": "execute_result",
          "data": {
            "text/plain": [
              "1"
            ]
          },
          "metadata": {},
          "execution_count": 16
        }
      ]
    },
    {
      "cell_type": "code",
      "source": [
        "def neuron(x1,x2,x3):\n",
        "  w1=np.random.uniform(-1 ,1)\n",
        "  w2=np.random.uniform(-1 ,1)\n",
        "  w3=np.random.uniform(-1 ,1)\n",
        "  y=w1* x1 + w2 * x2 + w3 * x3\n",
        "  if y>0:\n",
        "    return 1\n",
        "  else: # y <=0\n",
        "    return 0\n"
      ],
      "metadata": {
        "id": "U6BYx3WJGrLx"
      },
      "execution_count": null,
      "outputs": []
    },
    {
      "cell_type": "code",
      "source": [
        "neuron(10,3,4)"
      ],
      "metadata": {
        "colab": {
          "base_uri": "https://localhost:8080/"
        },
        "id": "lf8BD_kYHlGS",
        "outputId": "96c3843e-c832-4906-b920-076271a92767"
      },
      "execution_count": null,
      "outputs": [
        {
          "output_type": "execute_result",
          "data": {
            "text/plain": [
              "1"
            ]
          },
          "metadata": {},
          "execution_count": 8
        }
      ]
    },
    {
      "cell_type": "markdown",
      "source": [
        "\n",
        "# loss function\n",
        "\n"
      ],
      "metadata": {
        "id": "JDvOYKWd8AvS"
      }
    },
    {
      "cell_type": "code",
      "source": [
        "import numpy as np\n",
        "def neuron(x1,x2,x3):\n",
        "  w1=np.random.uniform(-1 ,1)\n",
        "  w2=np.random.uniform(-1 ,1)\n",
        "  w3=np.random.uniform(-1 ,1)\n",
        "  y=w1* x1 + w2 * x2 + w3 * x3\n",
        "  if y>0:\n",
        "    return 1\n",
        "  else: # y <=0\n",
        "    return 0\n",
        "\n",
        "def loss(y_hat, y):\n",
        "  return y_hat - y"
      ],
      "metadata": {
        "id": "cATTDGGIHqi9"
      },
      "execution_count": null,
      "outputs": []
    },
    {
      "cell_type": "code",
      "source": [
        "y_hat = neuron(2, 3, 4)\n",
        "print(y_hat)"
      ],
      "metadata": {
        "colab": {
          "base_uri": "https://localhost:8080/"
        },
        "id": "55ieb__D9tvd",
        "outputId": "3ef9283d-bf3d-4134-a41a-a0bdb59824dd"
      },
      "execution_count": null,
      "outputs": [
        {
          "output_type": "stream",
          "name": "stdout",
          "text": [
            "1\n"
          ]
        }
      ]
    },
    {
      "cell_type": "markdown",
      "source": [
        "we assume we expect for positive inputs , the output be 1"
      ],
      "metadata": {
        "id": "FsVzLJJw-enD"
      }
    },
    {
      "cell_type": "code",
      "source": [
        "y = 1\n",
        "loss(y_hat, y)"
      ],
      "metadata": {
        "colab": {
          "base_uri": "https://localhost:8080/"
        },
        "id": "__6ylo62-RUz",
        "outputId": "28ac696a-aaca-4ecb-cfc4-4d47b1c244c9"
      },
      "execution_count": null,
      "outputs": [
        {
          "output_type": "execute_result",
          "data": {
            "text/plain": [
              "0"
            ]
          },
          "metadata": {},
          "execution_count": 12
        }
      ]
    },
    {
      "cell_type": "code",
      "source": [
        "def loss(y_hat, y):\n",
        "  return np.abs(y_hat - y)"
      ],
      "metadata": {
        "id": "eq0tldH095uo"
      },
      "execution_count": null,
      "outputs": []
    },
    {
      "cell_type": "code",
      "source": [
        "loss(y_hat, y)"
      ],
      "metadata": {
        "colab": {
          "base_uri": "https://localhost:8080/"
        },
        "id": "92OVWTw7_m09",
        "outputId": "e11947fb-292b-4818-f714-11b303f1695a"
      },
      "execution_count": null,
      "outputs": [
        {
          "output_type": "execute_result",
          "data": {
            "text/plain": [
              "0"
            ]
          },
          "metadata": {},
          "execution_count": 14
        }
      ]
    },
    {
      "cell_type": "code",
      "source": [
        "import numpy as np\n",
        "def neuron(x1,x2,x3):\n",
        "  w1=1\n",
        "  w2=1\n",
        "  w3=1\n",
        "  y=w1* x1 + w2 * x2 + w3 * x3\n",
        "  if y>0:\n",
        "    return 1\n",
        "  else: # y <=0\n",
        "    return 0\n",
        "\n",
        "def loss(y_hat, y):\n",
        "  return np.abs(y_hat - y)\n",
        "\n",
        "X1 ,Y1=[1, 2, 3], 1\n",
        "X2 ,Y2 =[-1, -2, -3], 0\n",
        "#PATTERN IS  if inputs are positive output must be 1 and....\n"
      ],
      "metadata": {
        "id": "dk4WXaNQ_q_a"
      },
      "execution_count": null,
      "outputs": []
    },
    {
      "cell_type": "code",
      "source": [
        "X1[0],X1[1], X1[2]"
      ],
      "metadata": {
        "colab": {
          "base_uri": "https://localhost:8080/"
        },
        "id": "F0GJpwI5B3Qf",
        "outputId": "200e31ed-5437-49de-f2ba-645302d810d2"
      },
      "execution_count": null,
      "outputs": [
        {
          "output_type": "execute_result",
          "data": {
            "text/plain": [
              "(1, 2, 3)"
            ]
          },
          "metadata": {},
          "execution_count": 3
        }
      ]
    },
    {
      "cell_type": "code",
      "source": [
        "y_hat = neuron(X1[0],X1[1], X1[2])\n",
        "y_hat"
      ],
      "metadata": {
        "colab": {
          "base_uri": "https://localhost:8080/"
        },
        "id": "5ccFAI96BvzH",
        "outputId": "2c69fc75-437f-482c-97ab-d6bb76aa947d"
      },
      "execution_count": null,
      "outputs": [
        {
          "output_type": "execute_result",
          "data": {
            "text/plain": [
              "1"
            ]
          },
          "metadata": {},
          "execution_count": 4
        }
      ]
    },
    {
      "cell_type": "code",
      "source": [
        "loss(y_hat, Y1)"
      ],
      "metadata": {
        "colab": {
          "base_uri": "https://localhost:8080/"
        },
        "id": "NEx1KtFoCXxV",
        "outputId": "f6c86787-e89f-475c-f132-46e8d8b5ea3f"
      },
      "execution_count": null,
      "outputs": [
        {
          "output_type": "execute_result",
          "data": {
            "text/plain": [
              "0"
            ]
          },
          "metadata": {},
          "execution_count": 5
        }
      ]
    },
    {
      "cell_type": "code",
      "source": [
        "y_hat = neuron(X1[0],X1[1], X1[2])\n",
        "print(\"y_hat:\", y_hat)\n",
        "l = loss(y_hat, Y1)\n",
        "print(\"loss:\", l)"
      ],
      "metadata": {
        "colab": {
          "base_uri": "https://localhost:8080/"
        },
        "id": "6f_CF-oGG_bs",
        "outputId": "7eee454e-ea46-4146-d871-e5f53bfa9635"
      },
      "execution_count": null,
      "outputs": [
        {
          "output_type": "stream",
          "name": "stdout",
          "text": [
            "y_hat: 1\n",
            "loss: 0\n"
          ]
        }
      ]
    },
    {
      "cell_type": "code",
      "source": [
        "X3 ,Y3 =[-1, 2, -3], 1"
      ],
      "metadata": {
        "id": "o9x83C4iMF5s"
      },
      "execution_count": null,
      "outputs": []
    },
    {
      "cell_type": "markdown",
      "source": [
        "14 اسفند"
      ],
      "metadata": {
        "id": "VIkiD9Aqjobl"
      }
    },
    {
      "cell_type": "markdown",
      "source": [
        "xs here are data and ys are labels."
      ],
      "metadata": {
        "id": "c4-Zloc5lZBL"
      }
    },
    {
      "cell_type": "code",
      "source": [
        "# Dataset\n",
        "X1 ,Y1=[1, 2, 3], 1\n",
        "X2 ,Y2 =[-1, -2, -3], 0\n",
        "X3 ,Y3 =[-1, 2, -3], 1"
      ],
      "metadata": {
        "id": "OnZuo8DtlFtN"
      },
      "execution_count": null,
      "outputs": []
    },
    {
      "cell_type": "code",
      "source": [
        "# Functions\n",
        "import numpy as np\n",
        "\n",
        "def neuron(x1,x2,x3):\n",
        "  w1=1\n",
        "  w2=1\n",
        "  w3=1\n",
        "  y=w1* x1 + w2 * x2 + w3 * x3\n",
        "  if y>0:\n",
        "    return 1\n",
        "  else: # y <=0\n",
        "    return 0\n",
        "\n",
        "def loss(y_hat, y):\n",
        "  return np.abs(y_hat - y)\n"
      ],
      "metadata": {
        "id": "YThSvOmnN1Th"
      },
      "execution_count": null,
      "outputs": []
    },
    {
      "cell_type": "code",
      "source": [
        "# main\n",
        "y_hat = neuron(X1[0],X1[1], X1[2])\n",
        "print(\"y_hat:\", y_hat)\n",
        "l = loss(y_hat, Y1)\n",
        "print(\"loss:\", l)"
      ],
      "metadata": {
        "colab": {
          "base_uri": "https://localhost:8080/"
        },
        "id": "u5OpbV9MiXyS",
        "outputId": "5e0a31d4-6a47-42fb-d141-b3db4efdf78e"
      },
      "execution_count": null,
      "outputs": [
        {
          "output_type": "stream",
          "name": "stdout",
          "text": [
            "y_hat: 1\n",
            "loss: 0\n"
          ]
        }
      ]
    },
    {
      "cell_type": "code",
      "source": [
        "# main\n",
        "y_hat = neuron(X2[0],X2[1], X2[2])\n",
        "print(\"y_hat:\", y_hat)\n",
        "l = loss(y_hat, Y2)\n",
        "print(\"loss:\", l)"
      ],
      "metadata": {
        "colab": {
          "base_uri": "https://localhost:8080/"
        },
        "id": "bK1_K_JNoSZa",
        "outputId": "2b53e8b0-7325-48ef-9b69-189d0aca6640"
      },
      "execution_count": null,
      "outputs": [
        {
          "output_type": "stream",
          "name": "stdout",
          "text": [
            "y_hat: 0\n",
            "loss: 0\n"
          ]
        }
      ]
    },
    {
      "cell_type": "code",
      "source": [
        "# main\n",
        "y_hat = neuron(X3[0],X3[1], X3[2])\n",
        "print(\"y_hat:\", y_hat)\n",
        "l = loss(y_hat, Y3)\n",
        "print(\"loss:\", l)"
      ],
      "metadata": {
        "colab": {
          "base_uri": "https://localhost:8080/"
        },
        "id": "0W8-w27go4eD",
        "outputId": "507da74e-4687-433b-f3c5-0e52a1516731"
      },
      "execution_count": null,
      "outputs": [
        {
          "output_type": "stream",
          "name": "stdout",
          "text": [
            "y_hat: 0\n",
            "loss: 1\n"
          ]
        }
      ]
    },
    {
      "cell_type": "code",
      "source": [
        "# Linear Activation\n",
        "import numpy as np\n",
        "\n",
        "def neuron(x1,x2,x3):\n",
        "  w1=1\n",
        "  w2=1\n",
        "  w3=1\n",
        "  y=w1* x1 + w2 * x2 + w3 * x3\n",
        "  return y\n"
      ],
      "metadata": {
        "id": "n1kXxZaypPuj"
      },
      "execution_count": null,
      "outputs": []
    },
    {
      "cell_type": "code",
      "source": [
        "# main\n",
        "y_hat = neuron(X3[0],X3[1], X3[2])\n",
        "print(\"y_hat:\", y_hat)\n",
        "l = loss(y_hat, Y3)\n",
        "print(\"loss:\", l)"
      ],
      "metadata": {
        "colab": {
          "base_uri": "https://localhost:8080/"
        },
        "id": "WK40T9XGpnBG",
        "outputId": "d859362a-f652-48ad-8560-78d604345222"
      },
      "execution_count": null,
      "outputs": [
        {
          "output_type": "stream",
          "name": "stdout",
          "text": [
            "y_hat: -2\n",
            "loss: 3\n"
          ]
        }
      ]
    },
    {
      "cell_type": "markdown",
      "source": [
        "making change in activation function is not efficient (here) and it is wrong"
      ],
      "metadata": {
        "id": "ozSV_EncqhgC"
      }
    },
    {
      "cell_type": "code",
      "source": [
        "# Dataset\n",
        "X1 ,Y1=[1, 2, 3], 1\n",
        "X2 ,Y2 =[-1, -2, -3], 0\n",
        "X3 ,Y3 =[-1, 2, -3], 1\n",
        "X4 , Y4 = [4, 0 , 0], 1"
      ],
      "metadata": {
        "id": "egWAcfMvCvIs"
      },
      "execution_count": null,
      "outputs": []
    },
    {
      "cell_type": "code",
      "source": [
        "# Functions\n",
        "import numpy as np\n",
        "\n",
        "def neuron(x1,x2,x3):\n",
        "  w1=1\n",
        "  w2=3\n",
        "  w3=1\n",
        "  y=w1* x1 + w2 * x2 + w3 * x3\n",
        "  if y>0:\n",
        "    return 1\n",
        "  else: # y <=0\n",
        "    return 0\n",
        "\n",
        "def loss(y_hat, y):\n",
        "  return np.abs(y_hat - y)"
      ],
      "metadata": {
        "id": "1pEswKiepyC6"
      },
      "execution_count": null,
      "outputs": []
    },
    {
      "cell_type": "code",
      "source": [
        "# main\n",
        "y_hat = neuron(X3[0],X3[1], X3[2])\n",
        "print(\"y_hat:\", y_hat)\n",
        "l = loss(y_hat, Y3)\n",
        "print(\"loss:\", l)"
      ],
      "metadata": {
        "colab": {
          "base_uri": "https://localhost:8080/"
        },
        "id": "pgWWNAnj4Z3S",
        "outputId": "e719c70d-28eb-4e26-bcf7-77572b753a9b"
      },
      "execution_count": null,
      "outputs": [
        {
          "output_type": "stream",
          "name": "stdout",
          "text": [
            "y_hat: 1\n",
            "loss: 0\n"
          ]
        }
      ]
    },
    {
      "cell_type": "code",
      "source": [
        "# main\n",
        "y_hat = neuron(X2[0],X2[1], X2[2])\n",
        "print(\"y_hat:\", y_hat)\n",
        "l = loss(y_hat, Y2)\n",
        "print(\"loss:\", l)"
      ],
      "metadata": {
        "colab": {
          "base_uri": "https://localhost:8080/"
        },
        "id": "IwnNJDtK4cwC",
        "outputId": "13f1f9b0-d9e5-46cd-9474-47f890b51f47"
      },
      "execution_count": null,
      "outputs": [
        {
          "output_type": "stream",
          "name": "stdout",
          "text": [
            "y_hat: 0\n",
            "loss: 0\n"
          ]
        }
      ]
    },
    {
      "cell_type": "code",
      "source": [
        "# main\n",
        "y_hat = neuron(X1[0],X1[1], X1[2])\n",
        "print(\"y_hat:\", y_hat)\n",
        "l = loss(y_hat, Y1)\n",
        "print(\"loss:\", l)"
      ],
      "metadata": {
        "colab": {
          "base_uri": "https://localhost:8080/"
        },
        "id": "c91hZX4t5CQc",
        "outputId": "503dcf7e-e758-4cb2-f800-458b973a3a74"
      },
      "execution_count": null,
      "outputs": [
        {
          "output_type": "stream",
          "name": "stdout",
          "text": [
            "y_hat: 1\n",
            "loss: 0\n"
          ]
        }
      ]
    },
    {
      "cell_type": "code",
      "source": [
        "# main\n",
        "y_hat = neuron(X4[0],X4[1], X4[2])\n",
        "print(\"y_hat:\", y_hat)\n",
        "l = loss(y_hat, Y4)\n",
        "print(\"loss:\", l)"
      ],
      "metadata": {
        "colab": {
          "base_uri": "https://localhost:8080/"
        },
        "id": "QMYhm9NNCzF9",
        "outputId": "5faaf9e8-c72d-4929-b361-282b24fba8db"
      },
      "execution_count": null,
      "outputs": [
        {
          "output_type": "stream",
          "name": "stdout",
          "text": [
            "y_hat: 1\n",
            "loss: 0\n"
          ]
        }
      ]
    },
    {
      "cell_type": "code",
      "source": [
        "# Functions\n",
        "import numpy as np\n",
        "\n",
        "def neuron(x1,x2,x3):\n",
        "  w1=1\n",
        "  w2=1\n",
        "  w3=0\n",
        "  y=w1* x1 + w2 * x2 + w3 * x3\n",
        "  if y>0:\n",
        "    return 1\n",
        "  else: # y <=0\n",
        "    return 0\n",
        "\n",
        "def loss(y_hat, y):\n",
        "  return np.abs(y_hat - y)"
      ],
      "metadata": {
        "id": "8fYn6WW_5KHg"
      },
      "execution_count": null,
      "outputs": []
    },
    {
      "cell_type": "code",
      "source": [
        "# main\n",
        "y_hat = neuron(X3[0],X3[1], X3[2])\n",
        "print(\"y_hat:\", y_hat)\n",
        "l = loss(y_hat, Y3)\n",
        "print(\"loss:\", l)"
      ],
      "metadata": {
        "colab": {
          "base_uri": "https://localhost:8080/"
        },
        "id": "sLq0hklnA8SM",
        "outputId": "b6168851-679a-43e0-e8fc-4e7a17a4df32"
      },
      "execution_count": null,
      "outputs": [
        {
          "output_type": "stream",
          "name": "stdout",
          "text": [
            "y_hat: 1\n",
            "loss: 0\n"
          ]
        }
      ]
    },
    {
      "cell_type": "code",
      "source": [
        "# main\n",
        "y_hat = neuron(X2[0],X2[1], X2[2])\n",
        "print(\"y_hat:\", y_hat)\n",
        "l = loss(y_hat, Y2)\n",
        "print(\"loss:\", l)"
      ],
      "metadata": {
        "colab": {
          "base_uri": "https://localhost:8080/"
        },
        "id": "aN2OwVP2A-11",
        "outputId": "2635a4e1-65a3-4571-9834-f38859e96e92"
      },
      "execution_count": null,
      "outputs": [
        {
          "output_type": "stream",
          "name": "stdout",
          "text": [
            "y_hat: 0\n",
            "loss: 0\n"
          ]
        }
      ]
    },
    {
      "cell_type": "code",
      "source": [
        "# main\n",
        "y_hat = neuron(X1[0],X1[1], X1[2])\n",
        "print(\"y_hat:\", y_hat)\n",
        "l = loss(y_hat, Y1)\n",
        "print(\"loss:\", l)"
      ],
      "metadata": {
        "colab": {
          "base_uri": "https://localhost:8080/"
        },
        "id": "frbTiLspBBOR",
        "outputId": "37104699-78e3-425f-ecb8-a212488e1149"
      },
      "execution_count": null,
      "outputs": [
        {
          "output_type": "stream",
          "name": "stdout",
          "text": [
            "y_hat: 1\n",
            "loss: 0\n"
          ]
        }
      ]
    },
    {
      "cell_type": "code",
      "source": [
        "# main\n",
        "y_hat = neuron(X4[0],X4[1], X4[2])\n",
        "print(\"y_hat:\", y_hat)\n",
        "l = loss(y_hat, Y4)\n",
        "print(\"loss:\", l)"
      ],
      "metadata": {
        "colab": {
          "base_uri": "https://localhost:8080/"
        },
        "id": "xObJmhYEBFf9",
        "outputId": "123e83cc-7719-4824-f0f3-5181edfbe7ae"
      },
      "execution_count": null,
      "outputs": [
        {
          "output_type": "stream",
          "name": "stdout",
          "text": [
            "y_hat: 1\n",
            "loss: 0\n"
          ]
        }
      ]
    },
    {
      "cell_type": "markdown",
      "source": [
        "# Optimization :\n",
        "    gradient"
      ],
      "metadata": {
        "id": "i2_3980IilWe"
      }
    },
    {
      "cell_type": "code",
      "source": [
        "#gradient\n",
        "def f(x):\n",
        "  return x**2"
      ],
      "metadata": {
        "id": "VSv16jGNMGuX"
      },
      "execution_count": null,
      "outputs": []
    },
    {
      "cell_type": "code",
      "source": [
        "def gradient(x, delta_x=0.001):\n",
        "  d = (f(x+delta_x) - f(x))/(delta_x)\n",
        "  return d"
      ],
      "metadata": {
        "id": "LNcsxCnTi9_e"
      },
      "execution_count": null,
      "outputs": []
    },
    {
      "cell_type": "code",
      "source": [
        "gradient(1)"
      ],
      "metadata": {
        "colab": {
          "base_uri": "https://localhost:8080/"
        },
        "id": "7k5NpNZ2jzyW",
        "outputId": "c419d460-8f4f-47e6-e6ba-7ea95adfec0c"
      },
      "execution_count": null,
      "outputs": [
        {
          "output_type": "execute_result",
          "data": {
            "text/plain": [
              "2.100000000000002"
            ]
          },
          "metadata": {},
          "execution_count": 30
        }
      ]
    },
    {
      "cell_type": "code",
      "source": [
        "gradient(1, 0.000001)"
      ],
      "metadata": {
        "colab": {
          "base_uri": "https://localhost:8080/"
        },
        "id": "fGR5wfVAmQCs",
        "outputId": "ed827ed3-bb9c-4218-fb68-0180d5ae6879"
      },
      "execution_count": null,
      "outputs": [
        {
          "output_type": "execute_result",
          "data": {
            "text/plain": [
              "2.0000009999243673"
            ]
          },
          "metadata": {},
          "execution_count": 31
        }
      ]
    },
    {
      "cell_type": "code",
      "source": [
        "def gradient_descent(x_t):\n",
        "  x_t2 = x_t - gradient(x_t)\n",
        "  return x_t2"
      ],
      "metadata": {
        "id": "m28YYGzdmVLA"
      },
      "execution_count": null,
      "outputs": []
    },
    {
      "cell_type": "code",
      "source": [
        "gradient_descent(-3.100000000000012)"
      ],
      "metadata": {
        "colab": {
          "base_uri": "https://localhost:8080/"
        },
        "id": "mo0uNms0IFG5",
        "outputId": "d7c6cc10-5d9e-4840-f818-c33f3306d4a3"
      },
      "execution_count": null,
      "outputs": [
        {
          "output_type": "execute_result",
          "data": {
            "text/plain": [
              "3.0000000000000178"
            ]
          },
          "metadata": {},
          "execution_count": 8
        }
      ]
    },
    {
      "cell_type": "markdown",
      "source": [
        "Graient descent and learning rate effect:"
      ],
      "metadata": {
        "id": "6DGqRK4nbv-j"
      }
    },
    {
      "cell_type": "code",
      "source": [
        "def gradient_descent(x_t, alpha=0.1):\n",
        "  x_t2 = x_t - alpha * gradient(x_t)\n",
        "  return x_t2"
      ],
      "metadata": {
        "id": "hf2E-2t8aaAn"
      },
      "execution_count": null,
      "outputs": []
    },
    {
      "cell_type": "code",
      "source": [
        "gradient_descent(4)"
      ],
      "metadata": {
        "colab": {
          "base_uri": "https://localhost:8080/"
        },
        "id": "sIRgFEKFakkM",
        "outputId": "434c6cb2-3201-48d6-fd7a-6af1fc285a54"
      },
      "execution_count": null,
      "outputs": [
        {
          "output_type": "execute_result",
          "data": {
            "text/plain": [
              "3.1900000000000013"
            ]
          },
          "metadata": {},
          "execution_count": 10
        }
      ]
    },
    {
      "cell_type": "code",
      "source": [
        "gradient_descent(3.1900000000000013)"
      ],
      "metadata": {
        "colab": {
          "base_uri": "https://localhost:8080/"
        },
        "id": "th_dvvdXaqRY",
        "outputId": "87f355a0-f5ae-4282-d200-56e258e035b3"
      },
      "execution_count": null,
      "outputs": [
        {
          "output_type": "execute_result",
          "data": {
            "text/plain": [
              "2.5420000000000016"
            ]
          },
          "metadata": {},
          "execution_count": 11
        }
      ]
    },
    {
      "cell_type": "code",
      "source": [
        "x0 = 4\n",
        "for i in range(1000):\n",
        "  x1 = gradient_descent(x0, alpha=0.01)\n",
        "  x0 = x1"
      ],
      "metadata": {
        "id": "I9UHd66qa-mz"
      },
      "execution_count": null,
      "outputs": []
    },
    {
      "cell_type": "code",
      "source": [
        "x1"
      ],
      "metadata": {
        "colab": {
          "base_uri": "https://localhost:8080/"
        },
        "id": "IIXMVBrebcVz",
        "outputId": "0fab9fed-90c1-4cb2-faab-45a8e5323925"
      },
      "execution_count": null,
      "outputs": [
        {
          "output_type": "execute_result",
          "data": {
            "text/plain": [
              "-0.0004999932672890876"
            ]
          },
          "metadata": {},
          "execution_count": 16
        }
      ]
    },
    {
      "cell_type": "markdown",
      "source": [
        "how much is the optimizer practical?\n",
        "  we need to optimize the loss function to get the best performance\n",
        "<br>\n",
        "in our example we must optimize weights to optimize the loss function\n",
        "<br>\n",
        "but its formula is not clearly defined and it makes the problem so complex\n",
        "\n",
        "\n",
        "\n"
      ],
      "metadata": {
        "id": "mM0Iwz2Z26wI"
      }
    },
    {
      "cell_type": "markdown",
      "source": [
        "Batch Gradient Descent :"
      ],
      "metadata": {
        "id": "yzsX5nbh6f6z"
      }
    },
    {
      "cell_type": "code",
      "source": [
        "import numpy as np\n",
        "\n",
        "def neuron(x1,x2,x3):\n",
        "  w1=1\n",
        "  w2=1\n",
        "  w3=-11\n",
        "  y=w1* x1 + w2 * x2 + w3 * x3\n",
        "  if y>0:\n",
        "    return 1\n",
        "  else: # y <=0\n",
        "    return 0\n",
        "\n",
        "def loss(y_hat, y):\n",
        "  return np.abs(y_hat - y)"
      ],
      "metadata": {
        "id": "jAZzXwdH5RBO"
      },
      "execution_count": null,
      "outputs": []
    },
    {
      "cell_type": "code",
      "source": [
        "# Dataset\n",
        "X1 ,Y1=[1, 2, 3], 1\n",
        "X2 ,Y2 =[-1, -2, -3], 0\n",
        "X3 ,Y3 =[-1, 2, -3], 1\n",
        "X4, Y4 =[4, 0, 0], 1\n",
        "X = [X1, X2, X3, X4]\n",
        "Y = [1, 0, 1, 1]"
      ],
      "metadata": {
        "id": "LijKJs5O2vrK"
      },
      "execution_count": null,
      "outputs": []
    },
    {
      "cell_type": "code",
      "source": [
        "l = 0\n",
        "for i in range(4):\n",
        "  y_hat = neuron(X[i][0], X[i][1], X[i][2])\n",
        "  l = l + loss(y_hat, Y[i])\n",
        "print(\"loss:\", l)\n",
        "#optimizatin\n"
      ],
      "metadata": {
        "colab": {
          "base_uri": "https://localhost:8080/"
        },
        "id": "nkglEoBxb8Hz",
        "outputId": "31576ab9-7027-428a-f716-07344f4380d7"
      },
      "execution_count": null,
      "outputs": [
        {
          "output_type": "stream",
          "name": "stdout",
          "text": [
            "loss: 2\n"
          ]
        }
      ]
    },
    {
      "cell_type": "markdown",
      "source": [
        "Stochastic Gradient Decsent :"
      ],
      "metadata": {
        "id": "CzkooRje7llj"
      }
    },
    {
      "cell_type": "code",
      "source": [
        "l = 0\n",
        "for i in range(4):\n",
        "  y_hat = neuron(X[i][0], X[i][1], X[i][2])\n",
        "  l = loss(y_hat, Y[i])\n",
        "  #optimizatin\n",
        "\n",
        "print(\"loss:\", l)\n",
        "\n"
      ],
      "metadata": {
        "id": "nggvPu0W4kU3"
      },
      "execution_count": null,
      "outputs": []
    },
    {
      "cell_type": "markdown",
      "source": [
        "Mini-batch Gradient Descent :"
      ],
      "metadata": {
        "id": "AcSUfOkS8Xib"
      }
    },
    {
      "cell_type": "code",
      "source": [
        "l = 0\n",
        "b = 2\n",
        "for i in range(b):\n",
        "  y_hat = neuron(X[i][0], X[i][1], X[i][2])\n",
        "  l = l + loss(y_hat, Y[i])\n",
        "\n",
        "#optimizatin\n",
        "print(\"loss:\", l)"
      ],
      "metadata": {
        "id": "nn33mRVZ8ebX"
      },
      "execution_count": null,
      "outputs": []
    },
    {
      "cell_type": "markdown",
      "source": [
        "16 اسفند"
      ],
      "metadata": {
        "id": "GMZVb7ye66lM"
      }
    },
    {
      "cell_type": "markdown",
      "source": [
        "neuron is a function and the optimization part is not in this function\n",
        "<br>\n",
        "and it cant make change in weights,\n",
        "<br>so we must change the neurons function\n",
        "<br>its better to use class"
      ],
      "metadata": {
        "id": "9fPgCUE97UdB"
      }
    },
    {
      "cell_type": "code",
      "source": [
        "import numpy as np\n",
        "\n",
        "# def neuron(x1,x2,x3):\n",
        "#   w1=1\n",
        "#   w2=1\n",
        "#   w3=-11\n",
        "#   y=w1* x1 + w2 * x2 + w3 * x3\n",
        "#   if y>0:\n",
        "#     return 1\n",
        "#   else: # y <=0\n",
        "#     return 0\n",
        "\n",
        "class neuron():\n",
        "  def __init__(self):\n",
        "    self.o = 0\n"
      ],
      "metadata": {
        "id": "05FiYdUN7Asx"
      },
      "execution_count": null,
      "outputs": []
    },
    {
      "cell_type": "code",
      "source": [
        "n = neuron()"
      ],
      "metadata": {
        "id": "tp7TJyR0PFQL"
      },
      "execution_count": null,
      "outputs": []
    },
    {
      "cell_type": "code",
      "source": [
        "n.o"
      ],
      "metadata": {
        "colab": {
          "base_uri": "https://localhost:8080/"
        },
        "id": "ylQfX8CZPPwz",
        "outputId": "25042971-6534-47ba-8f1a-bba590323041"
      },
      "execution_count": null,
      "outputs": [
        {
          "output_type": "execute_result",
          "data": {
            "text/plain": [
              "0"
            ]
          },
          "metadata": {},
          "execution_count": 7
        }
      ]
    },
    {
      "cell_type": "code",
      "source": [
        "n.o = 11"
      ],
      "metadata": {
        "id": "w6gFKwUvPcHD"
      },
      "execution_count": null,
      "outputs": []
    },
    {
      "cell_type": "code",
      "source": [
        "n.o"
      ],
      "metadata": {
        "colab": {
          "base_uri": "https://localhost:8080/"
        },
        "id": "S8YZWU-qPu6P",
        "outputId": "7652bc42-10d5-4aa0-b6f3-9194f4e32a27"
      },
      "execution_count": null,
      "outputs": [
        {
          "output_type": "execute_result",
          "data": {
            "text/plain": [
              "11"
            ]
          },
          "metadata": {},
          "execution_count": 9
        }
      ]
    },
    {
      "cell_type": "code",
      "source": [
        "class neuron():\n",
        "  def __init__(self):\n",
        "    self.w1 = 1\n",
        "\n",
        "  def forward(self):\n",
        "    print(self.w1)"
      ],
      "metadata": {
        "id": "Z3EDNuSkQY2z"
      },
      "execution_count": null,
      "outputs": []
    },
    {
      "cell_type": "code",
      "source": [
        "n = neuron()\n",
        "n.forward()"
      ],
      "metadata": {
        "colab": {
          "base_uri": "https://localhost:8080/"
        },
        "id": "v6aoP3-BQt2a",
        "outputId": "97b83939-1bed-4899-9aa6-bf6420457c48"
      },
      "execution_count": null,
      "outputs": [
        {
          "output_type": "stream",
          "name": "stdout",
          "text": [
            "1\n"
          ]
        }
      ]
    },
    {
      "cell_type": "markdown",
      "source": [
        "Class"
      ],
      "metadata": {
        "id": "2TKXbSjMRRXp"
      }
    },
    {
      "cell_type": "code",
      "source": [
        "class esme_class():\n",
        "  def __init__(self):\n",
        "    self.a = 0\n",
        "    b=0\n",
        "\n",
        "  def func1(self):\n",
        "    print(\"this is func1\")\n",
        "\n",
        "  def func2(self):\n",
        "    self.a = 4\n",
        "\n",
        "  def func3(self, q):\n",
        "    self.a += q\n",
        "\n",
        "  def func4(self):\n",
        "    u=11\n",
        "    self.a += u\n",
        "\n",
        "  def func5(self):\n",
        "    print(\"this is self.a value :\", self.a)"
      ],
      "metadata": {
        "id": "LNnGibo7Q1DQ"
      },
      "execution_count": null,
      "outputs": []
    },
    {
      "cell_type": "code",
      "source": [
        "esm = esme_class()"
      ],
      "metadata": {
        "id": "QywZiT9TVRoG"
      },
      "execution_count": null,
      "outputs": []
    },
    {
      "cell_type": "code",
      "source": [
        "esm.a"
      ],
      "metadata": {
        "colab": {
          "base_uri": "https://localhost:8080/"
        },
        "id": "V9gFx4QBVY8Q",
        "outputId": "584c8954-9927-45b6-ec69-72c2ee1d5659"
      },
      "execution_count": null,
      "outputs": [
        {
          "output_type": "execute_result",
          "data": {
            "text/plain": [
              "0"
            ]
          },
          "metadata": {},
          "execution_count": 31
        }
      ]
    },
    {
      "cell_type": "code",
      "source": [
        "esm.b"
      ],
      "metadata": {
        "colab": {
          "base_uri": "https://localhost:8080/",
          "height": 141
        },
        "id": "dVARNSn_VdXR",
        "outputId": "b1ff953f-44ba-43ce-d2e5-789d6afb5ef9"
      },
      "execution_count": null,
      "outputs": [
        {
          "output_type": "error",
          "ename": "AttributeError",
          "evalue": "'esme_class' object has no attribute 'b'",
          "traceback": [
            "\u001b[0;31m---------------------------------------------------------------------------\u001b[0m",
            "\u001b[0;31mAttributeError\u001b[0m                            Traceback (most recent call last)",
            "\u001b[0;32m<ipython-input-17-6bcdf641abbb>\u001b[0m in \u001b[0;36m<cell line: 1>\u001b[0;34m()\u001b[0m\n\u001b[0;32m----> 1\u001b[0;31m \u001b[0mesm\u001b[0m\u001b[0;34m.\u001b[0m\u001b[0mb\u001b[0m\u001b[0;34m\u001b[0m\u001b[0;34m\u001b[0m\u001b[0m\n\u001b[0m",
            "\u001b[0;31mAttributeError\u001b[0m: 'esme_class' object has no attribute 'b'"
          ]
        }
      ]
    },
    {
      "cell_type": "code",
      "source": [
        "esm.func1()"
      ],
      "metadata": {
        "colab": {
          "base_uri": "https://localhost:8080/"
        },
        "id": "c2WCY2aMXOq3",
        "outputId": "5f1c7fa2-d4f0-42a6-93c2-8f6f2cfdec3f"
      },
      "execution_count": null,
      "outputs": [
        {
          "output_type": "stream",
          "name": "stdout",
          "text": [
            "this is func1\n"
          ]
        }
      ]
    },
    {
      "cell_type": "code",
      "source": [
        "esm.a =-1\n"
      ],
      "metadata": {
        "id": "tUtP4ZtjXfun"
      },
      "execution_count": null,
      "outputs": []
    },
    {
      "cell_type": "code",
      "source": [
        "esm.func2()"
      ],
      "metadata": {
        "id": "wsT7BSkvdczG"
      },
      "execution_count": null,
      "outputs": []
    },
    {
      "cell_type": "code",
      "source": [
        "esm.a"
      ],
      "metadata": {
        "colab": {
          "base_uri": "https://localhost:8080/"
        },
        "id": "GEZ4kzowdlej",
        "outputId": "ee1ef619-9fab-44ec-e17d-351d5b81d303"
      },
      "execution_count": null,
      "outputs": [
        {
          "output_type": "execute_result",
          "data": {
            "text/plain": [
              "4"
            ]
          },
          "metadata": {},
          "execution_count": 34
        }
      ]
    },
    {
      "cell_type": "code",
      "source": [
        "esm.func3(q=-100)"
      ],
      "metadata": {
        "id": "aEVsCaU0dsCC"
      },
      "execution_count": null,
      "outputs": []
    },
    {
      "cell_type": "markdown",
      "source": [
        "ctrl +space ----> auto complete"
      ],
      "metadata": {
        "id": "25fjfSAJeTOR"
      }
    },
    {
      "cell_type": "code",
      "source": [
        "esm.a"
      ],
      "metadata": {
        "colab": {
          "base_uri": "https://localhost:8080/"
        },
        "id": "x7ytDHmTdsw1",
        "outputId": "85187ce6-3e7a-4367-d60e-a19587a28881"
      },
      "execution_count": null,
      "outputs": [
        {
          "output_type": "execute_result",
          "data": {
            "text/plain": [
              "-96"
            ]
          },
          "metadata": {},
          "execution_count": 36
        }
      ]
    },
    {
      "cell_type": "code",
      "source": [
        "esm.func4()"
      ],
      "metadata": {
        "id": "L_H7Sz13epFd"
      },
      "execution_count": null,
      "outputs": []
    },
    {
      "cell_type": "code",
      "source": [
        "esm.a"
      ],
      "metadata": {
        "colab": {
          "base_uri": "https://localhost:8080/"
        },
        "id": "-YnC-op-epp-",
        "outputId": "be354880-3e3a-4ec4-97bd-b42d9d38cd9c"
      },
      "execution_count": null,
      "outputs": [
        {
          "output_type": "execute_result",
          "data": {
            "text/plain": [
              "-85"
            ]
          },
          "metadata": {},
          "execution_count": 38
        }
      ]
    },
    {
      "cell_type": "code",
      "source": [
        "esm.func5()"
      ],
      "metadata": {
        "colab": {
          "base_uri": "https://localhost:8080/"
        },
        "id": "O67hzeLKesx4",
        "outputId": "3c2ba459-2694-49c5-9e5d-3ea3eb4406a5"
      },
      "execution_count": null,
      "outputs": [
        {
          "output_type": "stream",
          "name": "stdout",
          "text": [
            "this is self.a value : -85\n"
          ]
        }
      ]
    },
    {
      "cell_type": "code",
      "source": [
        "import numpy as np\n",
        "\n",
        "# def neuron(x1,x2,x3):\n",
        "#   w1=1\n",
        "#   w2=1\n",
        "#   w3=-11\n",
        "#   y=w1* x1 + w2 * x2 + w3 * x3\n",
        "#   if y>0:\n",
        "#     return 1\n",
        "#   else: # y <=0\n",
        "#     return 0\n",
        "\n",
        "class neuron():\n",
        "  def __init__(self):\n",
        "    self.w = 1\n",
        "\n",
        "  def forward(self, input1):\n",
        "    y=self.w1* input1\n",
        "    if y > 0:\n",
        "      return 1\n",
        "    else: #y <=0\n",
        "      return 0\n"
      ],
      "metadata": {
        "id": "BrCiuyXZexXa"
      },
      "execution_count": null,
      "outputs": []
    },
    {
      "cell_type": "code",
      "source": [
        "n = neuron()"
      ],
      "metadata": {
        "id": "XbD76LnHppwh"
      },
      "execution_count": null,
      "outputs": []
    },
    {
      "cell_type": "code",
      "source": [
        "n.forward(input1=4)"
      ],
      "metadata": {
        "colab": {
          "base_uri": "https://localhost:8080/"
        },
        "id": "70LwW77YpsNO",
        "outputId": "e6a61aff-4ac8-45d8-93b4-b551214b742f"
      },
      "execution_count": null,
      "outputs": [
        {
          "output_type": "execute_result",
          "data": {
            "text/plain": [
              "1"
            ]
          },
          "metadata": {},
          "execution_count": 46
        }
      ]
    },
    {
      "cell_type": "code",
      "source": [
        "import numpy as np\n",
        "\n",
        "class neuron():\n",
        "  def __init__(self):\n",
        "    self.w = -1\n",
        "\n",
        "  def forward(self, input1):\n",
        "    y=self.w* input1\n",
        "    if y > 0:\n",
        "      return 1\n",
        "    else: #y <=0\n",
        "      return 0\n",
        "\n",
        "def loss(y_hat, y):\n",
        "  return np.abs(y_hat - y)\n",
        "\n",
        "# Optimization function\n",
        "# def gradient(x, delta_x=0.001):\n",
        "#   d = (f(x+delta_x) - f(x))/(delta_x)\n",
        "#   return d\n",
        "\n",
        "# def gradient_descent(x_t, alpha=0.1):\n",
        "#   x_t2 = x_t - alpha * gradient(x_t)\n",
        "#   return x_t2\n"
      ],
      "metadata": {
        "id": "rBelvgoMpv81"
      },
      "execution_count": null,
      "outputs": []
    },
    {
      "cell_type": "code",
      "source": [
        "# Dataset\n",
        "X1 ,Y1=1, 1\n",
        "X2 ,Y2 =-1, 0\n",
        "X3 ,Y3 =2, 1\n",
        "\n",
        "X = [X1, X2, X3]\n",
        "Y = [1, 0, 1]\n",
        "\n",
        "# main\n",
        "n = neuron()\n",
        "for i in range(len(X)):\n",
        "  y_hat = n.forward(X[i])\n",
        "  l = loss(y_hat, Y[i])\n",
        "\n"
      ],
      "metadata": {
        "id": "LyRf5Q0-2sVP"
      },
      "execution_count": null,
      "outputs": []
    },
    {
      "cell_type": "markdown",
      "source": [
        "we wanna change gradient descent to be compatible with neuron"
      ],
      "metadata": {
        "id": "uYK6nF8ZDJ06"
      }
    },
    {
      "cell_type": "markdown",
      "source": [
        "we use the loss function to optimize w,\n",
        "<br>\n",
        "here, loss function is linear,\n",
        "<br>\n",
        "derivative of the loss function with respect to w is one."
      ],
      "metadata": {
        "id": "IZHubo5xJJlH"
      }
    },
    {
      "cell_type": "code",
      "source": [
        "#Optimizatin Operation\n",
        "# print(\"loss:\", l)\n",
        "# x_t = n.w\n",
        "# x_t2 = x_t - alpha * l\n",
        "\n",
        "def gradient_descent(x_t,l, alpha=0.1):\n",
        "  if x_t < 0 :\n",
        "    x_t2 = x_t - alpha * (-l)\n",
        "  if x_t > 0 :\n",
        "    x_t2 = x_t - alpha * l\n",
        "  return x_t2\n"
      ],
      "metadata": {
        "id": "tJqmc8hkGTD1"
      },
      "execution_count": null,
      "outputs": []
    },
    {
      "cell_type": "code",
      "source": [
        "gradient_descent(n.w, l)"
      ],
      "metadata": {
        "colab": {
          "base_uri": "https://localhost:8080/"
        },
        "id": "163w6_ZPQgaI",
        "outputId": "5773aa31-5095-45ea-d9ae-cdf0a6e87b36"
      },
      "execution_count": null,
      "outputs": [
        {
          "output_type": "execute_result",
          "data": {
            "text/plain": [
              "-0.9"
            ]
          },
          "metadata": {},
          "execution_count": 26
        }
      ]
    },
    {
      "cell_type": "code",
      "source": [
        "gradient_descent(-0.9, l)"
      ],
      "metadata": {
        "colab": {
          "base_uri": "https://localhost:8080/"
        },
        "id": "CLh6tzsyQoXl",
        "outputId": "9e629baf-2fc5-4596-a74a-35a045fa2f40"
      },
      "execution_count": null,
      "outputs": [
        {
          "output_type": "execute_result",
          "data": {
            "text/plain": [
              "-0.8"
            ]
          },
          "metadata": {},
          "execution_count": 27
        }
      ]
    },
    {
      "cell_type": "markdown",
      "source": [
        "its steps is not correct and it is going further,\n",
        "<br>\n",
        "we use the condition if x_t>0 -->l , x_t <0 --> -l"
      ],
      "metadata": {
        "id": "w_aNF61jS33f"
      }
    },
    {
      "cell_type": "code",
      "source": [
        "step =10\n",
        "for i in range(step):\n",
        "  new_w = gradient_descent(n.w, l)\n",
        "  n.w = new_w"
      ],
      "metadata": {
        "id": "ckiXMiY1TEDw"
      },
      "execution_count": null,
      "outputs": []
    },
    {
      "cell_type": "code",
      "source": [
        "n.w"
      ],
      "metadata": {
        "colab": {
          "base_uri": "https://localhost:8080/"
        },
        "id": "e9lBeTP5x697",
        "outputId": "6b0d8300-1bdb-4be4-eda2-85ed4c39d1cc"
      },
      "execution_count": null,
      "outputs": [
        {
          "output_type": "execute_result",
          "data": {
            "text/plain": [
              "-1.3877787807814457e-16"
            ]
          },
          "metadata": {},
          "execution_count": 6
        }
      ]
    },
    {
      "cell_type": "code",
      "source": [
        "n.forward(X[2])"
      ],
      "metadata": {
        "colab": {
          "base_uri": "https://localhost:8080/"
        },
        "id": "IsBc9-OSx8dM",
        "outputId": "9d54f455-4069-4711-83ad-ee3608341e30"
      },
      "execution_count": null,
      "outputs": [
        {
          "output_type": "execute_result",
          "data": {
            "text/plain": [
              "0"
            ]
          },
          "metadata": {},
          "execution_count": 12
        }
      ]
    },
    {
      "cell_type": "markdown",
      "source": [
        "it dont answered correct and if we go more steps it may fall in zero,where it has not derivability.\n",
        "<br>\n",
        "so we add bias variable"
      ],
      "metadata": {
        "id": "HRU8EPfKzk0s"
      }
    },
    {
      "cell_type": "code",
      "source": [
        "import numpy as np\n",
        "\n",
        "class neuron():\n",
        "  def __init__(self):\n",
        "    self.w = -1\n",
        "    self.b = 0.1\n",
        "  def forward(self, input1):\n",
        "    y=self.w* input1 + self.b\n",
        "    # y = y + self.b\n",
        "    if y > 0:\n",
        "      return 1\n",
        "    else: #y <=0\n",
        "      return 0\n",
        "\n",
        "def loss(y_hat, y):\n",
        "  return np.abs(y_hat - y)\n",
        "\n",
        "# Dataset\n",
        "X1 ,Y1=1, 1\n",
        "X2 ,Y2 =-1, 0\n",
        "X3 ,Y3 =2, 1\n",
        "\n",
        "X = [X1, X2, X3]\n",
        "Y = [1, 0, 1]\n",
        "\n",
        "# main\n",
        "n = neuron()\n",
        "\n",
        "y_hat = n.forward(X[2])\n",
        "l = loss(y_hat, Y[2])\n",
        "\n",
        "# Optimization function\n",
        "print('loss :', l)\n",
        "def gradient_descent(x_t,l, alpha=0.1):\n",
        "  if x_t < 0 :\n",
        "    x_t2 = x_t - alpha * (-l)\n",
        "  if x_t > 0 :\n",
        "    x_t2 = x_t - alpha * l\n",
        "  return x_t2\n",
        "\n",
        "step =10\n",
        "for i in range(step):\n",
        "  new_w = gradient_descent(n.w, l)\n",
        "  n.w = new_w"
      ],
      "metadata": {
        "colab": {
          "base_uri": "https://localhost:8080/"
        },
        "id": "0DjEIyHFyI8o",
        "outputId": "c3ccda7c-9893-4ab4-ad99-23eb1755930c"
      },
      "execution_count": null,
      "outputs": [
        {
          "output_type": "stream",
          "name": "stdout",
          "text": [
            "loss : 1\n"
          ]
        }
      ]
    },
    {
      "cell_type": "code",
      "source": [
        "n.forward(X[2])"
      ],
      "metadata": {
        "colab": {
          "base_uri": "https://localhost:8080/"
        },
        "id": "1h41Debs4WMN",
        "outputId": "3a769807-eb94-4a19-c01b-7a0b63438b93"
      },
      "execution_count": null,
      "outputs": [
        {
          "output_type": "execute_result",
          "data": {
            "text/plain": [
              "1"
            ]
          },
          "metadata": {},
          "execution_count": 15
        }
      ]
    },
    {
      "cell_type": "markdown",
      "source": [
        "19 اسفند"
      ],
      "metadata": {
        "id": "5Aka10fiXetx"
      }
    },
    {
      "cell_type": "code",
      "source": [
        "import numpy as np\n",
        "\n",
        "class neuron():\n",
        "  def __init__(self):\n",
        "    self.w = -1\n",
        "    self.b = 0.1\n",
        "  def forward(self, input1):\n",
        "    y=self.w* input1 + self.b\n",
        "    # y = y + self.b\n",
        "    if y > 0:\n",
        "      return 1\n",
        "    else: #y <=0\n",
        "      return 0\n",
        "\n",
        "def loss(y_hat, y):\n",
        "  return np.abs(y_hat - y)\n",
        "\n",
        "# Dataset\n",
        "X1 ,Y1=1, 1\n",
        "X2 ,Y2 =-1, 0\n",
        "X3 ,Y3 =2, 1\n",
        "\n",
        "X = [X1, X2, X3]\n",
        "Y = [1, 0, 1]\n",
        "\n",
        "# main\n",
        "n = neuron()\n",
        "\n",
        "\n",
        "# Stochastic Gradient Descent\n",
        "y_hat = n.forward(X[2])\n",
        "l = loss(y_hat, Y[2])\n",
        "\n",
        "print(\"loss: \", l)\n",
        "step = 10\n",
        "for i in range(step):\n",
        "    new_w = gradient_descent(n.w, l)\n",
        "    n.w = new_w\n",
        "\n",
        "print(n.w)\n",
        "\n",
        "# Batch Gradient Decent\n",
        "l = 0\n",
        "for i in range(len(X)):\n",
        "    y_hat = n.forward(X[i])\n",
        "    l = l + loss(y_hat, Y[i])\n",
        "\n",
        "\n",
        "print(\"loss: \", l)\n",
        "step = 10\n",
        "for i in range(step):\n",
        "    new_w = gradient_descent(n.w, l)\n",
        "    n.w = new_w\n",
        "\n",
        "print(n.w)\n",
        "\n",
        "# Mini_batch Gradient Decent\n",
        "b = 2\n",
        "\n",
        "#x_choice= np.random.choice(X , b)\n",
        "indx_choice= np.random.randint(low=0, high=len(X), size=b)\n",
        "\n",
        "l = 0\n",
        "for i in range(len(indx_choice)):\n",
        "    y_hat = n.forward(X[indx_choice[i]])\n",
        "    l = l + loss(y_hat, Y[X[indx_choice[i]]])\n",
        "\n",
        "\n",
        "print(\"loss: \", l)\n",
        "step = 10\n",
        "for i in range(step):\n",
        "    new_w = gradient_descent(n.w, l)\n",
        "    n.w = new_w\n",
        "\n",
        "print(n.w)"
      ],
      "metadata": {
        "id": "R8YCo7TLX5Gg"
      },
      "execution_count": null,
      "outputs": []
    },
    {
      "cell_type": "code",
      "source": [
        "import numpy as np\n",
        "indx_choice = np.random.randint(low=0, high=3, size=2)\n",
        "print(indx_choice)"
      ],
      "metadata": {
        "colab": {
          "base_uri": "https://localhost:8080/"
        },
        "id": "BB52fRL25CeI",
        "outputId": "a9a83561-a408-4d88-ee26-5c1dd7c0d1ec"
      },
      "execution_count": null,
      "outputs": [
        {
          "output_type": "stream",
          "name": "stdout",
          "text": [
            "[2 1]\n"
          ]
        }
      ]
    },
    {
      "cell_type": "code",
      "source": [
        "import numpy as np\n",
        "\n",
        "class Activation_Pool():\n",
        "  def __init__(self):\n",
        "    pass\n",
        "\n",
        "  def binary(self, x):\n",
        "    if x > 0:\n",
        "      return 1\n",
        "    else: #if x <= 0\n",
        "      return 0\n",
        "\n",
        "  def linear(self, x):\n",
        "    return x\n",
        "\n",
        "  def sigmoid(self, x):\n",
        "    return 1/(1 + np.exp(-x))\n",
        "\n",
        "  def softmax(self, X):\n",
        "    probs=[]\n",
        "    for x in X:\n",
        "      probs.append(np.exp(x) / np.sum([np.exp(xi) for xi in X ]))\n",
        "    return probs\n",
        "\n",
        "  def tanh(self, x):\n",
        "    return(np.exp(x) - np.exp(-x))/ (np.exp(x) + np.exp(-x))\n",
        "\n",
        "  def ReLU(self, x):\n",
        "    return np.max([x, 0])\n",
        "\n",
        "  def Leaky_ReLU(self, x, a=0.01):\n",
        "    return np.max([a * x, x])"
      ],
      "metadata": {
        "id": "6lGvS-BN7yFn"
      },
      "execution_count": 12,
      "outputs": []
    },
    {
      "cell_type": "code",
      "source": [
        "activation = Activation_Pool()"
      ],
      "metadata": {
        "id": "1nllsXGiKw6W"
      },
      "execution_count": 13,
      "outputs": []
    },
    {
      "cell_type": "code",
      "source": [
        "activation.binary(10)"
      ],
      "metadata": {
        "colab": {
          "base_uri": "https://localhost:8080/"
        },
        "id": "Xly2El8SK6Jc",
        "outputId": "30107682-f096-49e4-e698-34ffb5fce46e"
      },
      "execution_count": 14,
      "outputs": [
        {
          "output_type": "execute_result",
          "data": {
            "text/plain": [
              "1"
            ]
          },
          "metadata": {},
          "execution_count": 14
        }
      ]
    },
    {
      "cell_type": "code",
      "source": [
        "activation.linear(10)"
      ],
      "metadata": {
        "colab": {
          "base_uri": "https://localhost:8080/"
        },
        "id": "PNRCXysqK-CT",
        "outputId": "633faae3-0659-4907-93f8-1c945720c2a8"
      },
      "execution_count": 15,
      "outputs": [
        {
          "output_type": "execute_result",
          "data": {
            "text/plain": [
              "10"
            ]
          },
          "metadata": {},
          "execution_count": 15
        }
      ]
    },
    {
      "cell_type": "code",
      "source": [
        "activation.sigmoid(-100)"
      ],
      "metadata": {
        "colab": {
          "base_uri": "https://localhost:8080/"
        },
        "id": "ejk7sCTNME1k",
        "outputId": "566f9172-bbd7-4947-8069-1cfed9ad3cf0"
      },
      "execution_count": 16,
      "outputs": [
        {
          "output_type": "execute_result",
          "data": {
            "text/plain": [
              "3.7200759760208356e-44"
            ]
          },
          "metadata": {},
          "execution_count": 16
        }
      ]
    },
    {
      "cell_type": "code",
      "source": [
        "activation.softmax([2, 10])\n"
      ],
      "metadata": {
        "id": "5lv5XW6ZNgl_",
        "colab": {
          "base_uri": "https://localhost:8080/"
        },
        "outputId": "a5bd611f-6b5a-4b96-bbd5-a1f4208e46b6"
      },
      "execution_count": 17,
      "outputs": [
        {
          "output_type": "execute_result",
          "data": {
            "text/plain": [
              "[0.0003353501304664781, 0.9996646498695335]"
            ]
          },
          "metadata": {},
          "execution_count": 17
        }
      ]
    },
    {
      "cell_type": "code",
      "source": [
        "0.0003353501304664781 + 0.9996646498695335"
      ],
      "metadata": {
        "colab": {
          "base_uri": "https://localhost:8080/"
        },
        "id": "BoFCJlECWDz7",
        "outputId": "10eb6dd5-0819-4ce1-f235-65bca82169df"
      },
      "execution_count": 18,
      "outputs": [
        {
          "output_type": "execute_result",
          "data": {
            "text/plain": [
              "1.0"
            ]
          },
          "metadata": {},
          "execution_count": 18
        }
      ]
    },
    {
      "cell_type": "code",
      "source": [
        "activation.tanh(10)"
      ],
      "metadata": {
        "colab": {
          "base_uri": "https://localhost:8080/"
        },
        "id": "rjca0dx6WcUh",
        "outputId": "d85a1957-dc81-40bb-abfe-eae9c54cfc57"
      },
      "execution_count": 19,
      "outputs": [
        {
          "output_type": "execute_result",
          "data": {
            "text/plain": [
              "0.9999999958776926"
            ]
          },
          "metadata": {},
          "execution_count": 19
        }
      ]
    },
    {
      "cell_type": "code",
      "source": [
        "activation.ReLU(-1)"
      ],
      "metadata": {
        "colab": {
          "base_uri": "https://localhost:8080/"
        },
        "id": "HOY_1Zr993aC",
        "outputId": "f89a9210-be9f-40ea-e7ab-2e10974a34a8"
      },
      "execution_count": 20,
      "outputs": [
        {
          "output_type": "execute_result",
          "data": {
            "text/plain": [
              "0"
            ]
          },
          "metadata": {},
          "execution_count": 20
        }
      ]
    },
    {
      "cell_type": "code",
      "source": [
        "activation.Leaky_ReLU(-10000)"
      ],
      "metadata": {
        "colab": {
          "base_uri": "https://localhost:8080/"
        },
        "id": "1W2oW0-NHllZ",
        "outputId": "e8e46c5c-929d-4e14-df60-e6db952f012d"
      },
      "execution_count": 21,
      "outputs": [
        {
          "output_type": "execute_result",
          "data": {
            "text/plain": [
              "-100.0"
            ]
          },
          "metadata": {},
          "execution_count": 21
        }
      ]
    },
    {
      "cell_type": "markdown",
      "source": [
        "we wanna generalaize our neuron .."
      ],
      "metadata": {
        "id": "43Po7hOrSc3w"
      }
    },
    {
      "cell_type": "code",
      "source": [
        "class neuron():\n",
        "  def __init__(self, activation):\n",
        "    self.w = -1\n",
        "    self.b = 0.1\n",
        "    self.activation = activation\n",
        "  def forward(self, input1):\n",
        "    y=self.w* input1 + self.b\n",
        "    # y = y + self.b\n",
        "    return self.activation(y)"
      ],
      "metadata": {
        "id": "Jx58FnudSssL"
      },
      "execution_count": 22,
      "outputs": []
    },
    {
      "cell_type": "code",
      "source": [
        "n = neuron(activation.binary)"
      ],
      "metadata": {
        "id": "Wn7lepvWTph-"
      },
      "execution_count": 23,
      "outputs": []
    },
    {
      "cell_type": "code",
      "source": [
        "n.forward(-1)"
      ],
      "metadata": {
        "colab": {
          "base_uri": "https://localhost:8080/"
        },
        "id": "pz10zTaoTy0w",
        "outputId": "f72d9315-2392-4700-b24a-d6efd4a22033"
      },
      "execution_count": 24,
      "outputs": [
        {
          "output_type": "execute_result",
          "data": {
            "text/plain": [
              "1"
            ]
          },
          "metadata": {},
          "execution_count": 24
        }
      ]
    },
    {
      "cell_type": "code",
      "source": [
        "n = neuron(activation.linear)\n",
        "n.forward(-1)"
      ],
      "metadata": {
        "colab": {
          "base_uri": "https://localhost:8080/"
        },
        "id": "te8m4dtbT2Px",
        "outputId": "f23fcc81-787e-4913-d57d-338810fd77d9"
      },
      "execution_count": 25,
      "outputs": [
        {
          "output_type": "execute_result",
          "data": {
            "text/plain": [
              "1.1"
            ]
          },
          "metadata": {},
          "execution_count": 25
        }
      ]
    },
    {
      "cell_type": "markdown",
      "source": [
        "number of features is depands on our neuron structure, now we will change this :\n",
        "<br>\n",
        "change number of features and ws and get it as input"
      ],
      "metadata": {
        "id": "_5J_bstSUMKL"
      }
    },
    {
      "cell_type": "code",
      "source": [
        "class neuron():\n",
        "  def __init__(self, feature_num, activation):\n",
        "\n",
        "    self.w = np.random.uniform(-1, 1, size=feature_num)\n",
        "    self.b = 0.1\n",
        "    self.activation = activation\n",
        "  def forward(self, inputs):\n",
        "    y = 0\n",
        "    for i in range(len(inputs)):\n",
        "      y += self.w[i]* inputs[i]\n",
        "    y = y + self.b\n",
        "    return self.activation(y)"
      ],
      "metadata": {
        "id": "fZksDSaXU2ve"
      },
      "execution_count": 30,
      "outputs": []
    },
    {
      "cell_type": "code",
      "source": [
        "np.random.uniform(-1, 1, size=10)"
      ],
      "metadata": {
        "colab": {
          "base_uri": "https://localhost:8080/"
        },
        "id": "ZECt9WCwVprW",
        "outputId": "d761dfe8-139f-4f5b-ee41-5aef009f203e"
      },
      "execution_count": 27,
      "outputs": [
        {
          "output_type": "execute_result",
          "data": {
            "text/plain": [
              "array([ 0.83511254,  0.11485927, -0.8190868 ,  0.04098425,  0.7053414 ,\n",
              "        0.3728016 ,  0.02720079, -0.69618171, -0.09732905, -0.00888513])"
            ]
          },
          "metadata": {},
          "execution_count": 27
        }
      ]
    },
    {
      "cell_type": "code",
      "source": [
        "n = neuron(3, activation.binary)"
      ],
      "metadata": {
        "id": "vXedyq4VXFcQ"
      },
      "execution_count": 31,
      "outputs": []
    },
    {
      "cell_type": "code",
      "source": [
        "n.forward([-1, 2, 5])"
      ],
      "metadata": {
        "colab": {
          "base_uri": "https://localhost:8080/"
        },
        "id": "IIO1feMXYD-H",
        "outputId": "db5b44df-4c48-4921-f8f4-6ceefd372b9a"
      },
      "execution_count": 32,
      "outputs": [
        {
          "output_type": "execute_result",
          "data": {
            "text/plain": [
              "0"
            ]
          },
          "metadata": {},
          "execution_count": 32
        }
      ]
    },
    {
      "cell_type": "markdown",
      "source": [
        "it is the time to extend the neuton to more neurons...\n",
        "<br>\n",
        "and how we can connect them to each others ..."
      ],
      "metadata": {
        "id": "tNIQ4856YrgX"
      }
    },
    {
      "cell_type": "markdown",
      "source": [
        "21 اسفند"
      ],
      "metadata": {
        "id": "aQP16dVTDfVt"
      }
    },
    {
      "cell_type": "code",
      "source": [
        "import numpy as np\n",
        "\n",
        "class Activation_Pool():\n",
        "  def __init__(self):\n",
        "    pass\n",
        "\n",
        "  def binary(self, x):\n",
        "    if x > 0:\n",
        "      return 1\n",
        "    else: #if x <= 0\n",
        "      return 0\n",
        "\n",
        "  def linear(self, x):\n",
        "    return x\n",
        "\n",
        "  def sigmoid(self, x):\n",
        "    return 1/(1 + np.exp(-x))\n",
        "\n",
        "  def softmax(self, X):\n",
        "    probs=[]\n",
        "    for x in X:\n",
        "      probs.append(np.exp(x) / np.sum([np.exp(xi) for xi in X ]))\n",
        "    return probs\n",
        "\n",
        "  def tanh(self, x):\n",
        "    return(np.exp(x) - np.exp(-x))/ (np.exp(x) + np.exp(-x))\n",
        "\n",
        "  def ReLU(self, x):\n",
        "    return np.max([x, 0])\n",
        "\n",
        "  def Leaky_ReLU(self, x, a=0.01):\n",
        "    return np.max([a * x, x])"
      ],
      "metadata": {
        "id": "meSY6eR2KRH2"
      },
      "execution_count": 4,
      "outputs": []
    },
    {
      "cell_type": "code",
      "source": [
        "\n",
        "class neuron():\n",
        "  def __init__(self, feature_num, activation):\n",
        "\n",
        "    self.w = np.random.uniform(-1, 1, size=feature_num)\n",
        "    self.b = np.random.uniform(-1, 1)\n",
        "    self.activation = activation\n",
        "  def forward(self, inputs):\n",
        "    y = 0\n",
        "    for i in range(len(inputs)):\n",
        "      y += self.w[i] * inputs[i]\n",
        "    y = y + self.b\n",
        "    return self.activation(y)"
      ],
      "metadata": {
        "id": "dLzIBy-cZDsM"
      },
      "execution_count": 5,
      "outputs": []
    },
    {
      "cell_type": "code",
      "source": [
        "# Dataset\n",
        "X1, Y1 = [1, 2, 3], 1\n",
        "X2, Y2 = [-1,-2,-3], 0\n",
        "X3, Y3 = [-1, 2,-3], 1\n",
        "X4, Y4 = [4, 0, 0], 1\n",
        "\n",
        "activation = Activation_Pool()\n",
        "neuron(3, activation.binary)"
      ],
      "metadata": {
        "id": "1_wzp-mSYi74",
        "colab": {
          "base_uri": "https://localhost:8080/"
        },
        "outputId": "0204f6d9-7e49-48b9-ccd6-a0e0426645d1"
      },
      "execution_count": 6,
      "outputs": [
        {
          "output_type": "execute_result",
          "data": {
            "text/plain": [
              "<__main__.neuron at 0x7f0efb6a65c0>"
            ]
          },
          "metadata": {},
          "execution_count": 6
        }
      ]
    },
    {
      "cell_type": "markdown",
      "source": [
        "## how to handle more than 2 classes :\n",
        "\n",
        "---\n",
        "\n"
      ],
      "metadata": {
        "id": "dHvTnk4NYIh5"
      }
    },
    {
      "cell_type": "code",
      "source": [
        "\n",
        "# Dataset\n",
        "X1, Y1 = [1, 2, 3], 1\n",
        "X2, Y2 = [-1,-2,-3], 2\n",
        "X3, Y3 = [-1, 2,-3], 0\n",
        "X4, Y4 = [4, 0, 0], 1"
      ],
      "metadata": {
        "id": "jrCF_KVDM2lV"
      },
      "execution_count": 4,
      "outputs": []
    },
    {
      "cell_type": "markdown",
      "source": [
        "represent 3 class with 3 neurons,each recognizes one class,0,1,2\n",
        "<br>\n",
        "for each class one neuron"
      ],
      "metadata": {
        "id": "pjyz4_GdYtHe"
      }
    },
    {
      "cell_type": "code",
      "source": [
        "n0 = neuron(3, activation.binary)\n",
        "n1 = neuron(3, activation.binary)\n",
        "n2 = neuron(3, activation.binary)\n",
        "# it is not optimizable\n",
        "# each neuron make its decision and they are not connected to each other.\n",
        "# we wanna separate activation function and neuron, but why?\n",
        "# we use an activation function for all,3 values,we can use softmax activation\n",
        "# it is best for multi class problems to handle the chaos."
      ],
      "metadata": {
        "id": "-kKMbUsSYseq"
      },
      "execution_count": 7,
      "outputs": []
    },
    {
      "cell_type": "code",
      "source": [
        "class neuron():\n",
        "  def __init__(self, feature_num):\n",
        "\n",
        "    self.w = np.random.uniform(-1, 1, size=feature_num)\n",
        "    self.b = np.random.uniform(-1, 1)\n",
        "\n",
        "  def forward(self, inputs):\n",
        "    y = 0\n",
        "    for i in range(len(inputs)):\n",
        "      y += self.w[i] * inputs[i]\n",
        "    y = y + self.b\n",
        "    return y"
      ],
      "metadata": {
        "id": "FrrTdO_xaxHk"
      },
      "execution_count": 8,
      "outputs": []
    },
    {
      "cell_type": "code",
      "source": [
        "# Dataset\n",
        "X1, Y1 = [1, 2, 3], 1\n",
        "X2, Y2 = [-1,-2,-3], 2\n",
        "X3, Y3 = [-1, 2,-3], 0\n",
        "X4, Y4 = [4, 0, 0], 1\n",
        "\n",
        "activation = Activation_Pool()\n",
        "\n",
        "n0 = neuron(3)\n",
        "n1 = neuron(3)\n",
        "n2 = neuron(3)"
      ],
      "metadata": {
        "id": "OGG5W1h4dxYP"
      },
      "execution_count": 9,
      "outputs": []
    },
    {
      "cell_type": "code",
      "source": [
        "y0_hat = n0.forward(X1)\n",
        "y1_hat = n1.forward(X1)\n",
        "y2_hat = n2.forward(X1)"
      ],
      "metadata": {
        "id": "FNrYQFtBg2Rl"
      },
      "execution_count": 10,
      "outputs": []
    },
    {
      "cell_type": "code",
      "source": [
        "y0_hat,y1_hat, y2_hat"
      ],
      "metadata": {
        "colab": {
          "base_uri": "https://localhost:8080/"
        },
        "id": "Rv7izciXho7Z",
        "outputId": "9b0b8bb5-3526-4f65-c8fc-e4ced149ddf7"
      },
      "execution_count": 11,
      "outputs": [
        {
          "output_type": "execute_result",
          "data": {
            "text/plain": [
              "(-2.584549388946807, 0.15129936341049488, 0.8574817997525757)"
            ]
          },
          "metadata": {},
          "execution_count": 11
        }
      ]
    },
    {
      "cell_type": "code",
      "source": [
        "activation.softmax([y0_hat,y1_hat, y2_hat])"
      ],
      "metadata": {
        "colab": {
          "base_uri": "https://localhost:8080/"
        },
        "id": "ZNVrHNQDh3U8",
        "outputId": "59b4c0cd-7fde-4417-fc17-330b931ca7e8"
      },
      "execution_count": 12,
      "outputs": [
        {
          "output_type": "execute_result",
          "data": {
            "text/plain": [
              "[0.020976147164417872, 0.3235115107425907, 0.6555123420929915]"
            ]
          },
          "metadata": {},
          "execution_count": 12
        }
      ]
    },
    {
      "cell_type": "markdown",
      "source": [
        "they are not connected yet and neurons are scattered.\n",
        "<br>\n",
        "we cant copy n0 for 1000 times,we must have a layer class."
      ],
      "metadata": {
        "id": "DZLmF3m7ilUm"
      }
    },
    {
      "cell_type": "markdown",
      "source": [
        "## layer class :"
      ],
      "metadata": {
        "id": "AFNoGHO3VqwH"
      }
    },
    {
      "cell_type": "code",
      "source": [
        "class layer():\n",
        "  def __init__(self, num_neuron, num_features):\n",
        "    self.neurons = []\n",
        "    for i in range(num_neuron):\n",
        "      self.neurons.append(neuron(num_features))\n"
      ],
      "metadata": {
        "id": "2Ll43sr_iW28"
      },
      "execution_count": 13,
      "outputs": []
    },
    {
      "cell_type": "code",
      "source": [
        "l = layer(3, 3)"
      ],
      "metadata": {
        "id": "RrqMNEYRXBIW"
      },
      "execution_count": 14,
      "outputs": []
    },
    {
      "cell_type": "code",
      "source": [
        "l.neurons"
      ],
      "metadata": {
        "colab": {
          "base_uri": "https://localhost:8080/"
        },
        "id": "vxPg3tbqXICz",
        "outputId": "4d8b4c08-acdd-4a4c-949f-34541fa34434"
      },
      "execution_count": 15,
      "outputs": [
        {
          "output_type": "execute_result",
          "data": {
            "text/plain": [
              "[<__main__.neuron at 0x7f0efb6a4f10>,\n",
              " <__main__.neuron at 0x7f0efb6a6890>,\n",
              " <__main__.neuron at 0x7f0efb6a6140>]"
            ]
          },
          "metadata": {},
          "execution_count": 15
        }
      ]
    },
    {
      "cell_type": "markdown",
      "source": [
        "these are their memory addresses"
      ],
      "metadata": {
        "id": "F9-d9q9KXhPi"
      }
    },
    {
      "cell_type": "code",
      "source": [
        "l.neurons[0].w"
      ],
      "metadata": {
        "colab": {
          "base_uri": "https://localhost:8080/"
        },
        "id": "D0x65jjNXoZO",
        "outputId": "928385c2-acaa-4c53-c50b-7b8ff00f1470"
      },
      "execution_count": 16,
      "outputs": [
        {
          "output_type": "execute_result",
          "data": {
            "text/plain": [
              "array([-0.47115217,  0.62859631, -0.95789261])"
            ]
          },
          "metadata": {},
          "execution_count": 16
        }
      ]
    },
    {
      "cell_type": "code",
      "source": [
        "l.neurons[0].forward(X1)"
      ],
      "metadata": {
        "colab": {
          "base_uri": "https://localhost:8080/"
        },
        "id": "7l7f764cY5Lt",
        "outputId": "c90b7b3f-24e4-4c52-ec74-2e10599a0d1a"
      },
      "execution_count": 17,
      "outputs": [
        {
          "output_type": "execute_result",
          "data": {
            "text/plain": [
              "-2.738268825346359"
            ]
          },
          "metadata": {},
          "execution_count": 17
        }
      ]
    },
    {
      "cell_type": "code",
      "source": [
        "class layer():\n",
        "  def __init__(self, num_neuron, num_features):\n",
        "    self.neurons = []\n",
        "    self.num_neuron = num_neuron\n",
        "    for i in range(num_neuron):\n",
        "      self.neurons.append(neuron(num_features))\n",
        "\n",
        "  def forward(self, features):\n",
        "    self.outputs = []\n",
        "    for i in range(self.num_neuron):\n",
        "      y_hat = self.neurons[i].forward(features)\n",
        "      self.outputs.append(y_hat)\n",
        "    return self.outputs"
      ],
      "metadata": {
        "id": "x-dvQARRXweP"
      },
      "execution_count": 18,
      "outputs": []
    },
    {
      "cell_type": "code",
      "source": [
        "l = layer(3, 3)\n",
        "y_hat = l.forward(X1)"
      ],
      "metadata": {
        "id": "1MlXUKgCadO_"
      },
      "execution_count": 19,
      "outputs": []
    },
    {
      "cell_type": "code",
      "source": [
        "activation.softmax(y_hat)"
      ],
      "metadata": {
        "colab": {
          "base_uri": "https://localhost:8080/"
        },
        "id": "Pa8oySyRa-mE",
        "outputId": "9208197d-cb3a-4cf5-c71e-a51d6bdb05f2"
      },
      "execution_count": 20,
      "outputs": [
        {
          "output_type": "execute_result",
          "data": {
            "text/plain": [
              "[0.000927999027413342, 0.0002601453841537863, 0.9988118555884329]"
            ]
          },
          "metadata": {},
          "execution_count": 20
        }
      ]
    },
    {
      "cell_type": "markdown",
      "source": [
        "What is the network?\n",
        "  using more than one layer, multi layer perceptron ,\n",
        "  \n"
      ],
      "metadata": {
        "id": "LmPdpI5W4oSI"
      }
    },
    {
      "cell_type": "code",
      "source": [
        "l1 = layer(3, 3)\n",
        "l2 = layer(3, 3)\n",
        "l3 = layer(3, 3)"
      ],
      "metadata": {
        "id": "Eb3nK3bIbQ1y"
      },
      "execution_count": 21,
      "outputs": []
    },
    {
      "cell_type": "markdown",
      "source": [
        "we have 3 class if we had 1 class we must use one neuron at l2 to get one output"
      ],
      "metadata": {
        "id": "z1I4ujlTL4B8"
      }
    },
    {
      "cell_type": "code",
      "source": [
        "l1_output = l1.forward(X1)\n",
        "l1_output"
      ],
      "metadata": {
        "colab": {
          "base_uri": "https://localhost:8080/"
        },
        "id": "-JK-RsJNMa4z",
        "outputId": "1220d78c-fa42-44d1-d5d2-64abb6777abc"
      },
      "execution_count": 22,
      "outputs": [
        {
          "output_type": "execute_result",
          "data": {
            "text/plain": [
              "[-4.2443653519617355, -0.4440909989441273, 3.96313404627388]"
            ]
          },
          "metadata": {},
          "execution_count": 22
        }
      ]
    },
    {
      "cell_type": "code",
      "source": [
        "l2_output = l2.forward(l1_output)\n",
        "l2_output"
      ],
      "metadata": {
        "colab": {
          "base_uri": "https://localhost:8080/"
        },
        "id": "MD4RnID7Mnjp",
        "outputId": "7e732278-09c1-44d5-d69b-6190bc681549"
      },
      "execution_count": 23,
      "outputs": [
        {
          "output_type": "execute_result",
          "data": {
            "text/plain": [
              "[-3.906873340666553, -1.3320355748795134, -2.105499087069901]"
            ]
          },
          "metadata": {},
          "execution_count": 23
        }
      ]
    },
    {
      "cell_type": "code",
      "source": [
        "l3_output = l3.forward(l2_output)\n",
        "l3_output"
      ],
      "metadata": {
        "colab": {
          "base_uri": "https://localhost:8080/"
        },
        "id": "qfw4ai6UNFH4",
        "outputId": "b35d7214-5e57-4d63-e489-318aadd58a89"
      },
      "execution_count": 24,
      "outputs": [
        {
          "output_type": "execute_result",
          "data": {
            "text/plain": [
              "[2.2279762424499534, -2.5773692817730804, 2.158348538919862]"
            ]
          },
          "metadata": {},
          "execution_count": 24
        }
      ]
    },
    {
      "cell_type": "markdown",
      "source": [
        "### there is no training, no communication yet!"
      ],
      "metadata": {
        "id": "HWalE_CxOfIZ"
      }
    },
    {
      "cell_type": "markdown",
      "source": [
        "we find the final decision here is better than the decision made by one neuron or one layer.  "
      ],
      "metadata": {
        "id": "veQfVu21Otr4"
      }
    },
    {
      "cell_type": "markdown",
      "source": [
        "# network :"
      ],
      "metadata": {
        "id": "nKBqhZUbP11O"
      }
    },
    {
      "cell_type": "code",
      "source": [
        "class network():\n",
        "  def __init__(self):\n",
        "    self.layers = []\n",
        "\n",
        "  def add_layer(self, num_neuron, num_features):\n",
        "    my_layer =layer(num_neuron, num_features)\n",
        "    self.layers.append(my_layer)"
      ],
      "metadata": {
        "id": "LFu_ownyNrTp"
      },
      "execution_count": 25,
      "outputs": []
    },
    {
      "cell_type": "code",
      "source": [
        "# multi layer perceptron\n",
        "MLP = network()"
      ],
      "metadata": {
        "id": "7EnyQWCuUZKi"
      },
      "execution_count": 26,
      "outputs": []
    },
    {
      "cell_type": "code",
      "source": [
        "MLP.add_layer(5, 3)\n",
        "MLP.add_layer(3, 3)\n"
      ],
      "metadata": {
        "id": "fNvyIRtKUe2y"
      },
      "execution_count": 27,
      "outputs": []
    },
    {
      "cell_type": "code",
      "source": [
        "MLP.layers"
      ],
      "metadata": {
        "colab": {
          "base_uri": "https://localhost:8080/"
        },
        "id": "MgegFazLW4Fd",
        "outputId": "22367931-714f-4f57-dde1-7e70070a9b67"
      },
      "execution_count": 28,
      "outputs": [
        {
          "output_type": "execute_result",
          "data": {
            "text/plain": [
              "[<__main__.layer at 0x7f0efb6a4460>, <__main__.layer at 0x7f0efb6a5540>]"
            ]
          },
          "metadata": {},
          "execution_count": 28
        }
      ]
    },
    {
      "cell_type": "code",
      "source": [
        "MLP.layers[0].neurons"
      ],
      "metadata": {
        "colab": {
          "base_uri": "https://localhost:8080/"
        },
        "id": "j6yGuEGCUpLR",
        "outputId": "5023e1b4-edbb-429d-d49b-7ebf04104dd5"
      },
      "execution_count": 29,
      "outputs": [
        {
          "output_type": "execute_result",
          "data": {
            "text/plain": [
              "[<__main__.neuron at 0x7f0efb6a6080>,\n",
              " <__main__.neuron at 0x7f0efb6a6a10>,\n",
              " <__main__.neuron at 0x7f0efb6a6da0>,\n",
              " <__main__.neuron at 0x7f0efb6a5e40>,\n",
              " <__main__.neuron at 0x7f0efb6a6920>]"
            ]
          },
          "metadata": {},
          "execution_count": 29
        }
      ]
    },
    {
      "cell_type": "code",
      "source": [
        "MLP.layers[0].neurons[0].b"
      ],
      "metadata": {
        "colab": {
          "base_uri": "https://localhost:8080/"
        },
        "id": "aAWejhhOVyDu",
        "outputId": "cc9135c9-c53a-4fb4-eb43-ffa7ce087d6a"
      },
      "execution_count": 30,
      "outputs": [
        {
          "output_type": "execute_result",
          "data": {
            "text/plain": [
              "0.9358577675701303"
            ]
          },
          "metadata": {},
          "execution_count": 30
        }
      ]
    },
    {
      "cell_type": "markdown",
      "source": [
        "we wanna dont calculate forward and out put for each layer one by one\n",
        "<br> one forward function does all in one line"
      ],
      "metadata": {
        "id": "s8p4ojpkXUSa"
      }
    },
    {
      "cell_type": "code",
      "source": [
        "class network():\n",
        "  def __init__(self):\n",
        "    self.layers = []\n",
        "\n",
        "  def add_layer(self, num_neuron, num_features):\n",
        "    my_layer =layer(num_neuron, num_features)\n",
        "    self.layers.append(my_layer)\n",
        "\n",
        "  def forward (self, features):\n",
        "    for i in range(len(self.layers)):\n",
        "      layer_output = self.layers[i].forward(features)\n",
        "      features = layer_output\n",
        "\n",
        "    return layer_output\n"
      ],
      "metadata": {
        "id": "y7lJpjjAWoQK"
      },
      "execution_count": 31,
      "outputs": []
    },
    {
      "cell_type": "code",
      "source": [
        "MLP = network()\n",
        "MLP.add_layer(3, 3)\n",
        "MLP.add_layer(3, 3)"
      ],
      "metadata": {
        "id": "tfOezmlDD22F"
      },
      "execution_count": 32,
      "outputs": []
    },
    {
      "cell_type": "code",
      "source": [
        "MLP.forward(X1)"
      ],
      "metadata": {
        "colab": {
          "base_uri": "https://localhost:8080/"
        },
        "id": "vZlhZ_oGE7a_",
        "outputId": "d47909df-06ed-4948-8a07-671f3d41be9b"
      },
      "execution_count": 33,
      "outputs": [
        {
          "output_type": "execute_result",
          "data": {
            "text/plain": [
              "[1.4419065140090166, 1.2190123802563075, 3.56064448729365]"
            ]
          },
          "metadata": {},
          "execution_count": 33
        }
      ]
    },
    {
      "cell_type": "markdown",
      "source": [
        "The number of neurons does not depend on the number of inputs.\n",
        "<br>\n"
      ],
      "metadata": {
        "id": "ocoxnyJ0HhDD"
      }
    },
    {
      "cell_type": "code",
      "source": [],
      "metadata": {
        "id": "KZFIILyUH-Lb"
      },
      "execution_count": null,
      "outputs": []
    }
  ]
}